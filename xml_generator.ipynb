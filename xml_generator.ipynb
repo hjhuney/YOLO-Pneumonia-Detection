{
 "cells": [
  {
   "cell_type": "markdown",
   "metadata": {},
   "source": [
    "# Imports and Dataframe Setup"
   ]
  },
  {
   "cell_type": "code",
   "execution_count": 1,
   "metadata": {
    "collapsed": true
   },
   "outputs": [],
   "source": [
    "import numpy as np\n",
    "import pandas as pd\n",
    "import textwrap\n",
    "from xml.sax.saxutils import escape"
   ]
  },
  {
   "cell_type": "code",
   "execution_count": 2,
   "metadata": {},
   "outputs": [
    {
     "name": "stdout",
     "output_type": "stream",
     "text": [
      "                              patientId  x_min1  y_min1  x_max1  y_max1  \\\n",
      "0  035789b1-3736-405d-9910-f8f23c62ae9f      60      88      90     111   \n",
      "1  03a9498c-549d-4e7d-800b-e74797f7f625      49     128     103     195   \n",
      "2  03ae75b6-45a7-4a68-9871-f07b82b17bf6      52      99      98     222   \n",
      "3  03cd7a5b-d5d7-40a1-81b1-c4264920530a      71      42     125     185   \n",
      "4  03d92597-3e33-4fdf-8db5-a27cf5b8d3eb     148      60     194     144   \n",
      "5  03e9a70f-3de8-4e13-b3f2-9dd6d75f496d      58      98      88     158   \n",
      "6  03edb5ed-9e76-4abe-bc35-7bc95fea7e6a      46     102      93     179   \n",
      "7  040a0743-f663-4746-8224-f0e3bacc7ba5      45     126     104     177   \n",
      "8  0499513a-5d48-4cf9-aac8-115e2a52fe1a      95     153     122     194   \n",
      "9  049d7317-5a8b-4fc4-b81f-159fe6b45a92     161      94     211     118   \n",
      "\n",
      "   x_min2  y_min2  x_max2  y_max2  x_min3  y_min3  x_max3  y_max3  x_min4  \\\n",
      "0   173.0    84.0   208.0   132.0     NaN     NaN     NaN     NaN     NaN   \n",
      "1   152.0   150.0   219.0   211.0   153.0    53.0   180.0    76.0     NaN   \n",
      "2   146.0    92.0   206.0   208.0     NaN     NaN     NaN     NaN     NaN   \n",
      "3   167.0    31.0   230.0   218.0     NaN     NaN     NaN     NaN     NaN   \n",
      "4     NaN     NaN     NaN     NaN     NaN     NaN     NaN     NaN     NaN   \n",
      "5   171.0    81.0   204.0   141.0     NaN     NaN     NaN     NaN     NaN   \n",
      "6   158.0   118.0   180.0   217.0     NaN     NaN     NaN     NaN     NaN   \n",
      "7    73.0    57.0    95.0    93.0   159.0    60.0   220.0   197.0     NaN   \n",
      "8   169.0   160.0   213.0   201.0     NaN     NaN     NaN     NaN     NaN   \n",
      "9     NaN     NaN     NaN     NaN     NaN     NaN     NaN     NaN     NaN   \n",
      "\n",
      "   y_min4  x_max4  y_max4  \n",
      "0     NaN     NaN     NaN  \n",
      "1     NaN     NaN     NaN  \n",
      "2     NaN     NaN     NaN  \n",
      "3     NaN     NaN     NaN  \n",
      "4     NaN     NaN     NaN  \n",
      "5     NaN     NaN     NaN  \n",
      "6     NaN     NaN     NaN  \n",
      "7     NaN     NaN     NaN  \n",
      "8     NaN     NaN     NaN  \n",
      "9     NaN     NaN     NaN  \n"
     ]
    }
   ],
   "source": [
    "df = pd.read_csv('pneumonia_bbs.csv')\n",
    "print(df.head(10))"
   ]
  },
  {
   "cell_type": "code",
   "execution_count": 3,
   "metadata": {},
   "outputs": [
    {
     "name": "stdout",
     "output_type": "stream",
     "text": [
      "<class 'pandas.core.frame.DataFrame'>\n",
      "Int64Index: 2475 entries, 4 to 5625\n",
      "Data columns (total 5 columns):\n",
      "patientId    2475 non-null object\n",
      "x_min1       2475 non-null int64\n",
      "y_min1       2475 non-null int64\n",
      "x_max1       2475 non-null int64\n",
      "y_max1       2475 non-null int64\n",
      "dtypes: int64(4), object(1)\n",
      "memory usage: 116.0+ KB\n"
     ]
    }
   ],
   "source": [
    "# create df for entries with only 1 bounding box\n",
    "df_1box = df[df.x_min2.isnull()]\n",
    "df_1box = df_1box.drop(['x_min2', 'y_min2',\n",
    "       'x_max2', 'y_max2', 'x_min3', 'y_min3', 'x_max3', 'y_max3', 'x_min4',\n",
    "       'y_min4', 'x_max4', 'y_max4'], axis=1)\n",
    "df_1box.info()"
   ]
  },
  {
   "cell_type": "code",
   "execution_count": 16,
   "metadata": {},
   "outputs": [
    {
     "name": "stdout",
     "output_type": "stream",
     "text": [
      "<class 'pandas.core.frame.DataFrame'>\n",
      "Int64Index: 3036 entries, 0 to 5626\n",
      "Data columns (total 9 columns):\n",
      "patientId    3036 non-null object\n",
      "x_min1       3036 non-null int32\n",
      "y_min1       3036 non-null int32\n",
      "x_max1       3036 non-null int32\n",
      "y_max1       3036 non-null int32\n",
      "x_min2       3036 non-null int32\n",
      "y_min2       3036 non-null int32\n",
      "x_max2       3036 non-null int32\n",
      "y_max2       3036 non-null int32\n",
      "dtypes: int32(8), object(1)\n",
      "memory usage: 142.3+ KB\n",
      "None\n"
     ]
    }
   ],
   "source": [
    "# create df for entries with 2 bounding boxes\n",
    "df_2box = df[df.x_min3.isnull() & df.x_min2.notnull()]\n",
    "df_2box = df_2box.drop(['x_min3', 'y_min3', 'x_max3', 'y_max3', 'x_min4',\n",
    "       'y_min4', 'x_max4', 'y_max4'], axis=1)\n",
    "df_2box.loc[:, 'x_min1':] = df_2box.loc[:, 'x_min1':].astype(int)\n",
    "# print(df_2box.head(10))\n",
    "print(df_2box.info())"
   ]
  },
  {
   "cell_type": "code",
   "execution_count": 17,
   "metadata": {},
   "outputs": [
    {
     "name": "stdout",
     "output_type": "stream",
     "text": [
      "                                patientId  x_min1  y_min1  x_max1  y_max1  \\\n",
      "1    03a9498c-549d-4e7d-800b-e74797f7f625      49     128     103     195   \n",
      "7    040a0743-f663-4746-8224-f0e3bacc7ba5      45     126     104     177   \n",
      "112  085a6486-c3b3-4ca2-80f1-be07d23e853b      37      81      76     137   \n",
      "159  098e14d4-3205-4c2d-a059-738f830c0aa5      31     148      67     195   \n",
      "202  0afeabf5-d5a3-454f-a50d-887f0d21106c      49      81      78     126   \n",
      "\n",
      "     x_min2  y_min2  x_max2  y_max2  x_min3  y_min3  x_max3  y_max3  \n",
      "1       152     150     219     211     153      53     180      76  \n",
      "7        73      57      95      93     159      60     220     197  \n",
      "112      83     105     122     168     166      58     212     129  \n",
      "159      42      76      96     161     122      80     203     194  \n",
      "202      66     111     107     173     145     100     221     183  \n"
     ]
    }
   ],
   "source": [
    "# create df for entries with 3 bounding boxes\n",
    "df_3box = df[df.x_min4.isnull() & df.x_min3.notnull() & df.x_min3.notnull()]\n",
    "df_3box = df_3box.drop(['x_min4',\n",
    "       'y_min4', 'x_max4', 'y_max4'], axis=1)\n",
    "df_3box.loc[:, 'x_min1':] = df_3box.loc[:, 'x_min1':].astype(int)\n",
    "print(df_3box.head())"
   ]
  },
  {
   "cell_type": "code",
   "execution_count": 18,
   "metadata": {},
   "outputs": [
    {
     "name": "stdout",
     "output_type": "stream",
     "text": [
      "<class 'pandas.core.frame.DataFrame'>\n",
      "Int64Index: 105 entries, 1 to 5511\n",
      "Data columns (total 13 columns):\n",
      "patientId    105 non-null object\n",
      "x_min1       105 non-null int32\n",
      "y_min1       105 non-null int32\n",
      "x_max1       105 non-null int32\n",
      "y_max1       105 non-null int32\n",
      "x_min2       105 non-null int32\n",
      "y_min2       105 non-null int32\n",
      "x_max2       105 non-null int32\n",
      "y_max2       105 non-null int32\n",
      "x_min3       105 non-null int32\n",
      "y_min3       105 non-null int32\n",
      "x_max3       105 non-null int32\n",
      "y_max3       105 non-null int32\n",
      "dtypes: int32(12), object(1)\n",
      "memory usage: 6.6+ KB\n"
     ]
    }
   ],
   "source": [
    "df_3box.info()"
   ]
  },
  {
   "cell_type": "markdown",
   "metadata": {
    "collapsed": true
   },
   "source": [
    "# Set up Templates"
   ]
  },
  {
   "cell_type": "code",
   "execution_count": 19,
   "metadata": {
    "collapsed": true
   },
   "outputs": [],
   "source": [
    "template_1box = textwrap.dedent(\"\"\"\\\n",
    "<annotation>\n",
    "    <folder>VOC2007</folder>\n",
    "    <filename>{filename}.jpg</filename>\n",
    "    <source>\n",
    "        <database>The VOC2007 Database</database>\n",
    "        <annotation>PASCAL VOC2007</annotation>\n",
    "        <image>flickr</image>\n",
    "        <flickrid>336426776</flickrid>\n",
    "    </source>\n",
    "    <owner>\n",
    "        <flickrid>Elder Timothy Chaves</flickrid>\n",
    "        <name>Tim Chaves</name>\n",
    "    </owner>\n",
    "    <size>\n",
    "        <width>256</width>\n",
    "        <height>256</height>\n",
    "        <depth>3</depth>\n",
    "    </size>\n",
    "    <segmented>0</segmented>\n",
    "    <object>\n",
    "        <name>opacity</name>\n",
    "        <pose>unknown</pose>\n",
    "        <truncated>0</truncated>\n",
    "        <difficult>0</difficult>\n",
    "        <bndbox>\n",
    "            <xmin>{xmin1}</xmin>\n",
    "            <ymin>{ymin1}</ymin>\n",
    "            <xmax>{xmax1}</xmax>\n",
    "            <ymax>{ymax1}</ymax>\n",
    "        </bndbox>\n",
    "    </object>\n",
    "</annotation>\"\"\")"
   ]
  },
  {
   "cell_type": "code",
   "execution_count": 20,
   "metadata": {
    "collapsed": true
   },
   "outputs": [],
   "source": [
    "template_2box = textwrap.dedent(\"\"\"\\\n",
    "<annotation>\n",
    "    <folder>VOC2007</folder>\n",
    "    <filename>{filename}.jpg</filename>\n",
    "    <source>\n",
    "        <database>The VOC2007 Database</database>\n",
    "        <annotation>PASCAL VOC2007</annotation>\n",
    "        <image>flickr</image>\n",
    "        <flickrid>336426776</flickrid>\n",
    "    </source>\n",
    "    <owner>\n",
    "        <flickrid>Elder Timothy Chaves</flickrid>\n",
    "        <name>Tim Chaves</name>\n",
    "    </owner>\n",
    "    <size>\n",
    "        <width>256</width>\n",
    "        <height>256</height>\n",
    "        <depth>3</depth>\n",
    "    </size>\n",
    "    <segmented>0</segmented>\n",
    "    <object>\n",
    "        <name>opacity</name>\n",
    "        <pose>unknown</pose>\n",
    "        <truncated>0</truncated>\n",
    "        <difficult>0</difficult>\n",
    "        <bndbox>\n",
    "            <xmin>{xmin1}</xmin>\n",
    "            <ymin>{ymin1}</ymin>\n",
    "            <xmax>{xmax1}</xmax>\n",
    "            <ymax>{ymax1}</ymax>\n",
    "        </bndbox>\n",
    "    </object>\n",
    "    <object>\n",
    "        <name>opacity</name>\n",
    "        <pose>unknown</pose>\n",
    "        <truncated>0</truncated>\n",
    "        <difficult>0</difficult>\n",
    "        <bndbox>\n",
    "            <xmin>{xmin2}</xmin>\n",
    "            <ymin>{ymin2}</ymin>\n",
    "            <xmax>{xmax2}</xmax>\n",
    "            <ymax>{ymax2}</ymax>\n",
    "        </bndbox>\n",
    "    </object>\n",
    "</annotation>\"\"\")"
   ]
  },
  {
   "cell_type": "code",
   "execution_count": 21,
   "metadata": {
    "collapsed": true
   },
   "outputs": [],
   "source": [
    "template_3box = textwrap.dedent(\"\"\"\\\n",
    "<annotation>\n",
    "    <folder>VOC2007</folder>\n",
    "    <filename>{filename}.jpg</filename>\n",
    "    <source>\n",
    "        <database>The VOC2007 Database</database>\n",
    "        <annotation>PASCAL VOC2007</annotation>\n",
    "        <image>flickr</image>\n",
    "        <flickrid>336426776</flickrid>\n",
    "    </source>\n",
    "    <owner>\n",
    "        <flickrid>Elder Timothy Chaves</flickrid>\n",
    "        <name>Tim Chaves</name>\n",
    "    </owner>\n",
    "    <size>\n",
    "        <width>256</width>\n",
    "        <height>256</height>\n",
    "        <depth>3</depth>\n",
    "    </size>\n",
    "    <segmented>0</segmented>\n",
    "    <object>\n",
    "        <name>opacity</name>\n",
    "        <pose>unknown</pose>\n",
    "        <truncated>0</truncated>\n",
    "        <difficult>0</difficult>\n",
    "        <bndbox>\n",
    "            <xmin>{xmin1}</xmin>\n",
    "            <ymin>{ymin1}</ymin>\n",
    "            <xmax>{xmax1}</xmax>\n",
    "            <ymax>{ymax1}</ymax>\n",
    "        </bndbox>\n",
    "    </object>\n",
    "    <object>\n",
    "        <name>opacity</name>\n",
    "        <pose>unknown</pose>\n",
    "        <truncated>0</truncated>\n",
    "        <difficult>0</difficult>\n",
    "        <bndbox>\n",
    "            <xmin>{xmin2}</xmin>\n",
    "            <ymin>{ymin2}</ymin>\n",
    "            <xmax>{xmax2}</xmax>\n",
    "            <ymax>{ymax2}</ymax>\n",
    "        </bndbox>\n",
    "    </object>\n",
    "    <object>\n",
    "        <name>opacity</name>\n",
    "        <pose>unknown</pose>\n",
    "        <truncated>0</truncated>\n",
    "        <difficult>0</difficult>\n",
    "        <bndbox>\n",
    "            <xmin>{xmin3}</xmin>\n",
    "            <ymin>{ymin3}</ymin>\n",
    "            <xmax>{xmax3}</xmax>\n",
    "            <ymax>{ymax3}</ymax>\n",
    "        </bndbox>\n",
    "    </object>\n",
    "</annotation>\"\"\")"
   ]
  },
  {
   "cell_type": "markdown",
   "metadata": {},
   "source": [
    "# XML Converter"
   ]
  },
  {
   "cell_type": "code",
   "execution_count": 19,
   "metadata": {},
   "outputs": [
    {
     "name": "stdout",
     "output_type": "stream",
     "text": [
      "                              patientId  x_min1  y_min1  x_max1  y_max1  \\\n",
      "0  035789b1-3736-405d-9910-f8f23c62ae9f      60      88      90     111   \n",
      "2  03ae75b6-45a7-4a68-9871-f07b82b17bf6      52      99      98     222   \n",
      "3  03cd7a5b-d5d7-40a1-81b1-c4264920530a      71      42     125     185   \n",
      "5  03e9a70f-3de8-4e13-b3f2-9dd6d75f496d      58      98      88     158   \n",
      "6  03edb5ed-9e76-4abe-bc35-7bc95fea7e6a      46     102      93     179   \n",
      "\n",
      "   x_min2  y_min2  x_max2  y_max2  \n",
      "0     173      84     208     132  \n",
      "2     146      92     206     208  \n",
      "3     167      31     230     218  \n",
      "5     171      81     204     141  \n",
      "6     158     118     180     217  \n"
     ]
    }
   ],
   "source": [
    "# df_2box_short = df_2box[:1000]\n",
    "# print(df_2box_short.head())"
   ]
  },
  {
   "cell_type": "code",
   "execution_count": 22,
   "metadata": {
    "collapsed": true
   },
   "outputs": [],
   "source": [
    "list_dict_1box = []\n",
    "\n",
    "for index, row in df_1box.iterrows():\n",
    "    dict = {\n",
    "    'filename': row['patientId'],\n",
    "    'xmin1': str(row['x_min1']),\n",
    "    'ymin1': str(row['y_min1']),\n",
    "    'xmax1': str(row['x_max1']),\n",
    "    'ymax1': str(row['y_max1']),\n",
    "}\n",
    "    list_dict_1box.append(dict)"
   ]
  },
  {
   "cell_type": "code",
   "execution_count": 23,
   "metadata": {
    "collapsed": true
   },
   "outputs": [],
   "source": [
    "list_dict_2box = []\n",
    "\n",
    "for index, row in df_2box.iterrows():\n",
    "    dict = {\n",
    "    'filename': row['patientId'],\n",
    "    'xmin1': str(row['x_min1']),\n",
    "    'ymin1': str(row['y_min1']),\n",
    "    'xmax1': str(row['x_max1']),\n",
    "    'ymax1': str(row['y_max1']),\n",
    "    'xmin2': str(row['x_min2']),\n",
    "    'ymin2': str(row['y_min2']),\n",
    "    'xmax2': str(row['x_max2']),\n",
    "    'ymax2': str(row['y_max2']),\n",
    "}\n",
    "    list_dict_2box.append(dict)"
   ]
  },
  {
   "cell_type": "code",
   "execution_count": 24,
   "metadata": {
    "collapsed": true
   },
   "outputs": [],
   "source": [
    "list_dict_3box = []\n",
    "\n",
    "for index, row in df_3box.iterrows():\n",
    "    dict = {\n",
    "    'filename': row['patientId'],\n",
    "    'xmin1': str(row['x_min1']),\n",
    "    'ymin1': str(row['y_min1']),\n",
    "    'xmax1': str(row['x_max1']),\n",
    "    'ymax1': str(row['y_max1']),\n",
    "    'xmin2': str(row['x_min2']),\n",
    "    'ymin2': str(row['y_min2']),\n",
    "    'xmax2': str(row['x_max2']),\n",
    "    'ymax2': str(row['y_max2']),\n",
    "    'xmin3': str(row['x_min3']),\n",
    "    'ymin3': str(row['y_min3']),\n",
    "    'xmax3': str(row['x_max3']),\n",
    "    'ymax3': str(row['y_max3']),\n",
    "}\n",
    "    list_dict_3box.append(dict)"
   ]
  },
  {
   "cell_type": "code",
   "execution_count": 25,
   "metadata": {},
   "outputs": [
    {
     "name": "stdout",
     "output_type": "stream",
     "text": [
      "{'filename': '03d92597-3e33-4fdf-8db5-a27cf5b8d3eb', 'xmin1': '148', 'ymin1': '60', 'xmax1': '194', 'ymax1': '144'}\n",
      "{'filename': '035789b1-3736-405d-9910-f8f23c62ae9f', 'xmin1': '60', 'ymin1': '88', 'xmax1': '90', 'ymax1': '111', 'xmin2': '173', 'ymin2': '84', 'xmax2': '208', 'ymax2': '132'}\n",
      "{'filename': '03a9498c-549d-4e7d-800b-e74797f7f625', 'xmin1': '49', 'ymin1': '128', 'xmax1': '103', 'ymax1': '195', 'xmin2': '152', 'ymin2': '150', 'xmax2': '219', 'ymax2': '211', 'xmin3': '153', 'ymin3': '53', 'xmax3': '180', 'ymax3': '76'}\n"
     ]
    }
   ],
   "source": [
    "print(list_dict_1box[0])\n",
    "print(list_dict_2box[0])\n",
    "print(list_dict_3box[0])"
   ]
  },
  {
   "cell_type": "code",
   "execution_count": 30,
   "metadata": {},
   "outputs": [
    {
     "name": "stdout",
     "output_type": "stream",
     "text": [
      "2475\n",
      "3036\n",
      "105\n"
     ]
    }
   ],
   "source": [
    "print(len(list_dict_1box))\n",
    "print(len(list_dict_2box))\n",
    "print(len(list_dict_3box))"
   ]
  },
  {
   "cell_type": "markdown",
   "metadata": {},
   "source": [
    "# Output"
   ]
  },
  {
   "cell_type": "code",
   "execution_count": 31,
   "metadata": {
    "collapsed": true
   },
   "outputs": [],
   "source": [
    "# # output all 1-box .xml files\n",
    "for i in list_dict_1box:\n",
    "    escaped = {k: escape(v) for k, v in i.items()}\n",
    "    data = template_1box.format(**escaped)\n",
    "    open(\"{}.xml\".format(i['filename']), \"w\").write(data)"
   ]
  },
  {
   "cell_type": "code",
   "execution_count": 33,
   "metadata": {
    "collapsed": true
   },
   "outputs": [],
   "source": [
    "# # output all 2-box .xml files\n",
    "for i in list_dict_2box:\n",
    "    escaped = {k: escape(v) for k, v in i.items()}\n",
    "    data = template_2box.format(**escaped)\n",
    "    open(\"{}.xml\".format(i['filename']), \"w\").write(data)"
   ]
  },
  {
   "cell_type": "code",
   "execution_count": 34,
   "metadata": {
    "collapsed": true
   },
   "outputs": [],
   "source": [
    "# output all 3-box .xml files\n",
    "for i in list_dict_3box:\n",
    "    escaped = {k: escape(v) for k, v in i.items()}\n",
    "    data = template_3box.format(**escaped)\n",
    "    open(\"{}.xml\".format(i['filename']), \"w\").write(data)"
   ]
  },
  {
   "cell_type": "code",
   "execution_count": null,
   "metadata": {
    "collapsed": true
   },
   "outputs": [],
   "source": []
  }
 ],
 "metadata": {
  "kernelspec": {
   "display_name": "Python 3",
   "language": "python",
   "name": "python3"
  },
  "language_info": {
   "codemirror_mode": {
    "name": "ipython",
    "version": 3
   },
   "file_extension": ".py",
   "mimetype": "text/x-python",
   "name": "python",
   "nbconvert_exporter": "python",
   "pygments_lexer": "ipython3",
   "version": "3.6.1"
  }
 },
 "nbformat": 4,
 "nbformat_minor": 2
}
