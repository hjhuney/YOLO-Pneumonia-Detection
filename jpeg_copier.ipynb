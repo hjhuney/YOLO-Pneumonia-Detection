{
 "cells": [
  {
   "cell_type": "code",
   "execution_count": 1,
   "metadata": {
    "collapsed": true
   },
   "outputs": [],
   "source": [
    "import numpy as np\n",
    "import pandas as pd\n",
    "import shutil"
   ]
  },
  {
   "cell_type": "code",
   "execution_count": 2,
   "metadata": {},
   "outputs": [
    {
     "name": "stdout",
     "output_type": "stream",
     "text": [
      "<class 'pandas.core.frame.DataFrame'>\n",
      "RangeIndex: 5627 entries, 0 to 5626\n",
      "Data columns (total 17 columns):\n",
      "patientId    5627 non-null object\n",
      "x_min1       5627 non-null int64\n",
      "y_min1       5627 non-null int64\n",
      "x_max1       5627 non-null int64\n",
      "y_max1       5627 non-null int64\n",
      "x_min2       3152 non-null float64\n",
      "y_min2       3152 non-null float64\n",
      "x_max2       3152 non-null float64\n",
      "y_max2       3152 non-null float64\n",
      "x_min3       116 non-null float64\n",
      "y_min3       116 non-null float64\n",
      "x_max3       116 non-null float64\n",
      "y_max3       116 non-null float64\n",
      "x_min4       11 non-null float64\n",
      "y_min4       11 non-null float64\n",
      "x_max4       11 non-null float64\n",
      "y_max4       11 non-null float64\n",
      "dtypes: float64(12), int64(4), object(1)\n",
      "memory usage: 747.4+ KB\n",
      "None\n"
     ]
    }
   ],
   "source": [
    "df = pd.read_csv('pneumonia_bbs.csv')\n",
    "print(df.info())"
   ]
  },
  {
   "cell_type": "code",
   "execution_count": 3,
   "metadata": {},
   "outputs": [
    {
     "name": "stdout",
     "output_type": "stream",
     "text": [
      "<class 'pandas.core.frame.DataFrame'>\n",
      "Int64Index: 2475 entries, 4 to 5625\n",
      "Data columns (total 5 columns):\n",
      "patientId    2475 non-null object\n",
      "x_min1       2475 non-null int64\n",
      "y_min1       2475 non-null int64\n",
      "x_max1       2475 non-null int64\n",
      "y_max1       2475 non-null int64\n",
      "dtypes: int64(4), object(1)\n",
      "memory usage: 116.0+ KB\n"
     ]
    }
   ],
   "source": [
    "# create df for entries with only 1 bounding box\n",
    "df_1box = df[df.x_min2.isnull()]\n",
    "df_1box = df_1box.drop(['x_min2', 'y_min2',\n",
    "       'x_max2', 'y_max2', 'x_min3', 'y_min3', 'x_max3', 'y_max3', 'x_min4',\n",
    "       'y_min4', 'x_max4', 'y_max4'], axis=1)\n",
    "df_1box.info()"
   ]
  },
  {
   "cell_type": "code",
   "execution_count": 4,
   "metadata": {},
   "outputs": [
    {
     "name": "stdout",
     "output_type": "stream",
     "text": [
      "                               patientId  x_min1  y_min1  x_max1  y_max1  \\\n",
      "0   035789b1-3736-405d-9910-f8f23c62ae9f      60      88      90     111   \n",
      "2   03ae75b6-45a7-4a68-9871-f07b82b17bf6      52      99      98     222   \n",
      "3   03cd7a5b-d5d7-40a1-81b1-c4264920530a      71      42     125     185   \n",
      "5   03e9a70f-3de8-4e13-b3f2-9dd6d75f496d      58      98      88     158   \n",
      "6   03edb5ed-9e76-4abe-bc35-7bc95fea7e6a      46     102      93     179   \n",
      "8   0499513a-5d48-4cf9-aac8-115e2a52fe1a      95     153     122     194   \n",
      "17  05b91b32-5635-4071-b45d-6a73f8eea918      40      66     119     191   \n",
      "18  05b970e1-b223-4c17-a6a8-3f78c43c5308      65     125     115     192   \n",
      "19  05bb6f8d-453b-4e56-ae92-2600e058ba65      57     106     113     184   \n",
      "20  05d3817a-5535-4e77-8dda-d4412e496c81      64      18     132     189   \n",
      "\n",
      "    x_min2  y_min2  x_max2  y_max2  \n",
      "0      173      84     208     132  \n",
      "2      146      92     206     208  \n",
      "3      167      31     230     218  \n",
      "5      171      81     204     141  \n",
      "6      158     118     180     217  \n",
      "8      169     160     213     201  \n",
      "17     144      51     199     204  \n",
      "18     163     138     206     179  \n",
      "19     153     111     202     190  \n",
      "20     153      19     222     209  \n"
     ]
    }
   ],
   "source": [
    "# create df for entries with 2 bounding boxes\n",
    "df_2box = df[df.x_min3.isnull() & df.x_min2.notnull()]\n",
    "df_2box = df_2box.drop(['x_min3', 'y_min3', 'x_max3', 'y_max3', 'x_min4',\n",
    "       'y_min4', 'x_max4', 'y_max4'], axis=1)\n",
    "df_2box.loc[:, 'x_min1':] = df_2box.loc[:, 'x_min1':].astype(int)\n",
    "print(df_2box.head(10))"
   ]
  },
  {
   "cell_type": "code",
   "execution_count": 5,
   "metadata": {},
   "outputs": [
    {
     "name": "stdout",
     "output_type": "stream",
     "text": [
      "                                patientId  x_min1  y_min1  x_max1  y_max1  \\\n",
      "1    03a9498c-549d-4e7d-800b-e74797f7f625      49     128     103     195   \n",
      "7    040a0743-f663-4746-8224-f0e3bacc7ba5      45     126     104     177   \n",
      "112  085a6486-c3b3-4ca2-80f1-be07d23e853b      37      81      76     137   \n",
      "159  098e14d4-3205-4c2d-a059-738f830c0aa5      31     148      67     195   \n",
      "202  0afeabf5-d5a3-454f-a50d-887f0d21106c      49      81      78     126   \n",
      "206  0b2057bc-4c6d-4c90-8975-94c02392e460      20     146      82     210   \n",
      "225  0bf44996-58da-4a12-8be1-da5c9b009975      48      93      97     154   \n",
      "305  12b4c5bc-48cb-4010-9b2e-eeb8b0d5cc8e      69     133     111     184   \n",
      "311  13e0c332-c269-40a3-9026-02a0f11a4dbd      66      97     111     154   \n",
      "326  1565fd6c-9432-454a-87e4-937fd5ad5b60      40      74      80     120   \n",
      "\n",
      "     x_min2  y_min2  x_max2  y_max2  x_min3  y_min3  x_max3  y_max3  \n",
      "1       152     150     219     211     153      53     180      76  \n",
      "7        73      57      95      93     159      60     220     197  \n",
      "112      83     105     122     168     166      58     212     129  \n",
      "159      42      76      96     161     122      80     203     194  \n",
      "202      66     111     107     173     145     100     221     183  \n",
      "206      25      53      80     149     124     151     184     219  \n",
      "225      83      37     162      83     136      95     203     161  \n",
      "305     142      84     199     149     151     161     207     190  \n",
      "311      93      22     134      73     164     109     214     168  \n",
      "326      67     134     111     193     164      77     196     111  \n"
     ]
    }
   ],
   "source": [
    "# create df for entries with 2 bounding boxes\n",
    "df_3box = df[df.x_min4.isnull() & df.x_min3.notnull()]\n",
    "df_3box = df_3box.drop(['x_min4', 'y_min4', 'x_max4', 'y_max4'], axis=1)\n",
    "df_3box.loc[:, 'x_min1':] = df_3box.loc[:, 'x_min1':].astype(int)\n",
    "print(df_3box.head(10))"
   ]
  },
  {
   "cell_type": "code",
   "execution_count": 6,
   "metadata": {},
   "outputs": [
    {
     "name": "stdout",
     "output_type": "stream",
     "text": [
      "(5627, 17)\n",
      "(2475, 5)\n",
      "(3036, 9)\n",
      "(105, 13)\n"
     ]
    }
   ],
   "source": [
    "print(df.shape)\n",
    "print(df_1box.shape)\n",
    "print(df_2box.shape)\n",
    "print(df_3box.shape)"
   ]
  },
  {
   "cell_type": "code",
   "execution_count": 7,
   "metadata": {
    "collapsed": true
   },
   "outputs": [],
   "source": [
    "from_path = 'enter_image_folder_input_path'\n",
    "to_path = 'enter_output_path_for_images'"
   ]
  },
  {
   "cell_type": "code",
   "execution_count": 8,
   "metadata": {
    "collapsed": true
   },
   "outputs": [],
   "source": [
    "list_1b = df_1box['patientId']\n",
    "list_2b = df_2box['patientId']\n",
    "list_3b = df_3box['patientId']"
   ]
  },
  {
   "cell_type": "code",
   "execution_count": 9,
   "metadata": {},
   "outputs": [
    {
     "name": "stdout",
     "output_type": "stream",
     "text": [
      "(2475,)\n",
      "(3036,)\n",
      "(105,)\n"
     ]
    }
   ],
   "source": [
    "print(list_1b.shape)\n",
    "print(list_2b.shape)\n",
    "print(list_3b.shape)"
   ]
  },
  {
   "cell_type": "code",
   "execution_count": 10,
   "metadata": {
    "collapsed": true
   },
   "outputs": [],
   "source": [
    "from_list_1b = []\n",
    "for i in list_1b:\n",
    "    from_list_1b.append(from_path + \"\\\\\" + i + \".jpg\")\n",
    "    \n",
    "to_list_1b = []\n",
    "for i in list_1b: \n",
    "    to_list_1b.append(to_path + \"\\\\\" + i + \".jpg\")"
   ]
  },
  {
   "cell_type": "code",
   "execution_count": 11,
   "metadata": {
    "collapsed": true
   },
   "outputs": [],
   "source": [
    "from_list_2b = []\n",
    "for i in list_2b:\n",
    "    from_list_2b.append(from_path + \"\\\\\" + i + \".jpg\")\n",
    "    \n",
    "to_list_2b = []\n",
    "for i in list_2b: \n",
    "    to_list_2b.append(to_path + \"\\\\\" + i + \".jpg\")"
   ]
  },
  {
   "cell_type": "code",
   "execution_count": 12,
   "metadata": {
    "collapsed": true
   },
   "outputs": [],
   "source": [
    "from_list_3b = []\n",
    "for i in list_3b:\n",
    "    from_list_3b.append(from_path + \"\\\\\" + i + \".jpg\")\n",
    "    \n",
    "to_list_3b = []\n",
    "for i in list_3b: \n",
    "    to_list_3b.append(to_path + \"\\\\\" + i + \".jpg\")"
   ]
  },
  {
   "cell_type": "code",
   "execution_count": null,
   "metadata": {
    "collapsed": true
   },
   "outputs": [],
   "source": []
  },
  {
   "cell_type": "code",
   "execution_count": 1,
   "metadata": {},
   "outputs": [],
   "source": [
    "# print(from_list_1b[0])\n",
    "# print(from_list_2b[0])\n",
    "# print(from_list_3b[0])"
   ]
  },
  {
   "cell_type": "code",
   "execution_count": 17,
   "metadata": {
    "collapsed": true
   },
   "outputs": [],
   "source": []
  },
  {
   "cell_type": "code",
   "execution_count": 14,
   "metadata": {
    "collapsed": true
   },
   "outputs": [],
   "source": [
    "for i in range(len(from_list_1b)):\n",
    "    shutil.copyfile(from_list_1b[i], to_list_1b[i])"
   ]
  },
  {
   "cell_type": "code",
   "execution_count": 15,
   "metadata": {
    "collapsed": true
   },
   "outputs": [],
   "source": [
    "for i in range(len(from_list_2b)):\n",
    "    shutil.copyfile(from_list_2b[i], to_list_2b[i])"
   ]
  },
  {
   "cell_type": "code",
   "execution_count": 16,
   "metadata": {
    "collapsed": true
   },
   "outputs": [],
   "source": [
    "for i in range(len(from_list_3b)):\n",
    "    shutil.copyfile(from_list_3b[i], to_list_3b[i])"
   ]
  },
  {
   "cell_type": "code",
   "execution_count": null,
   "metadata": {
    "collapsed": true
   },
   "outputs": [],
   "source": []
  }
 ],
 "metadata": {
  "kernelspec": {
   "display_name": "Python 3",
   "language": "python",
   "name": "python3"
  },
  "language_info": {
   "codemirror_mode": {
    "name": "ipython",
    "version": 3
   },
   "file_extension": ".py",
   "mimetype": "text/x-python",
   "name": "python",
   "nbconvert_exporter": "python",
   "pygments_lexer": "ipython3",
   "version": "3.6.1"
  }
 },
 "nbformat": 4,
 "nbformat_minor": 2
}
